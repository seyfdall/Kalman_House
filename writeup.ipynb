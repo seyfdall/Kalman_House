{
 "cells": [
  {
   "cell_type": "markdown",
   "metadata": {},
   "source": [
    "# Homework 9"
   ]
  },
  {
   "cell_type": "markdown",
   "metadata": {},
   "source": [
    "Group Members: DT Litster, Melanie Neller, Nathan Schill, Dallin Seyfried"
   ]
  },
  {
   "cell_type": "markdown",
   "metadata": {},
   "source": [
    "In this homework project, you will create a model of the value of single family homes built in 1985 or later in an area of your choice (outside of Utah valley).  You will use Kalman filtering to update your forecast with data."
   ]
  },
  {
   "cell_type": "markdown",
   "metadata": {},
   "source": [
    "### Problem 1"
   ]
  },
  {
   "cell_type": "markdown",
   "metadata": {},
   "source": [
    "Choose a real estate market outside of Utah County. Create a model that\n",
    "depends on time to predict the value of single family homes built 1985 or\n",
    "later. You may include other input to your model like home size, lot size,\n",
    "etc, but you also need to include time as an input. Explain your model in\n",
    "detail."
   ]
  },
  {
   "cell_type": "markdown",
   "metadata": {},
   "source": [
    "### Problem 2"
   ]
  },
  {
   "cell_type": "markdown",
   "metadata": {},
   "source": [
    "Obtain freely available, but noisy data regarding the value of single family\n",
    "homes in the market you chose. Talk to me please if you need ideas on\n",
    "how to obtain that."
   ]
  },
  {
   "cell_type": "markdown",
   "metadata": {},
   "source": [
    "### Problem 3"
   ]
  },
  {
   "cell_type": "markdown",
   "metadata": {},
   "source": [
    "Now use Kalman filtering to model the value of homes in your market as\n",
    "time progresses."
   ]
  },
  {
   "cell_type": "markdown",
   "metadata": {},
   "source": [
    "### Problem 4"
   ]
  },
  {
   "cell_type": "markdown",
   "metadata": {},
   "source": [
    "Use visuals and brief explanations to demonstrate how your Kalman filtering answer compares to your model without Kalman filtering."
   ]
  }
 ],
 "metadata": {
  "language_info": {
   "name": "python"
  }
 },
 "nbformat": 4,
 "nbformat_minor": 2
}
