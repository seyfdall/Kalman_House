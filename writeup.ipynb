{
 "cells": [
  {
   "cell_type": "markdown",
   "metadata": {},
   "source": [
    "# Homework 9"
   ]
  },
  {
   "cell_type": "markdown",
   "metadata": {},
   "source": [
    "Group Members: DT Litster, Melanie Neller, Nathan Schill, Dallin Seyfried"
   ]
  },
  {
   "cell_type": "markdown",
   "metadata": {},
   "source": [
    "In this homework project, you will create a model of the value of single family homes built in 1985 or later in an area of your choice (outside of Utah valley).  You will use Kalman filtering to update your forecast with data."
   ]
  },
  {
   "cell_type": "markdown",
   "metadata": {},
   "source": [
    "### Problem 1"
   ]
  },
  {
   "cell_type": "markdown",
   "metadata": {},
   "source": [
    "Choose a real estate market outside of Utah County. Create a model that\n",
    "depends on time to predict the value of single family homes built 1985 or\n",
    "later. You may include other input to your model like home size, lot size,\n",
    "etc, but you also need to include time as an input. Explain your model in\n",
    "detail."
   ]
  },
  {
   "cell_type": "markdown",
   "metadata": {},
   "source": [
    "### Problem 2"
   ]
  },
  {
   "cell_type": "markdown",
   "metadata": {},
   "source": [
    "Obtain freely available, but noisy data regarding the value of single family\n",
    "homes in the market you chose. Talk to me please if you need ideas on\n",
    "how to obtain that."
   ]
  },
  {
   "cell_type": "markdown",
   "metadata": {},
   "source": [
    "We downloaded and cleaned a dataset from Kaggle.com that had been compiled from\n",
    "data available from the city of New York. We removed sales less than $100,000\n",
    "removed all columns other than sale price, sale date, year built, neighborhood\n",
    "square footage. We also removed duplicate transactions, where we assume any two\n",
    "transactions on the same day selling the same home is a duplicate transaction." 
    ]
  },
  {
   "cell_type": "markdown",
   "metadata": {},
   "source": [
    "### Problem 3"
   ]
  },
  {
   "cell_type": "markdown",
   "metadata": {},
   "source": [
    "Now use Kalman filtering to model the value of homes in your market as\n",
    "time progresses."
   ]
  },
  {
   "cell_type": "markdown",
   "metadata": {},
   "source": [
    "### Problem 4"
   ]
  },
  {
   "cell_type": "markdown",
   "metadata": {},
   "source": [
    "Use visuals and brief explanations to demonstrate how your Kalman filtering answer compares to your model without Kalman filtering."
   ]
  },
  {
   "cell_type": "code",
   "execution_count": 3,
   "metadata": {},
   "outputs": [],
   "source": [
    "import pandas as pd\n",
    "import numpy as np"
   ]
  },
  {
   "cell_type": "code",
   "execution_count": 4,
   "metadata": {},
   "outputs": [
    {
     "data": {
      "text/html": [
       "<div>\n",
       "<style scoped>\n",
       "    .dataframe tbody tr th:only-of-type {\n",
       "        vertical-align: middle;\n",
       "    }\n",
       "\n",
       "    .dataframe tbody tr th {\n",
       "        vertical-align: top;\n",
       "    }\n",
       "\n",
       "    .dataframe thead th {\n",
       "        text-align: right;\n",
       "    }\n",
       "</style>\n",
       "<table border=\"1\" class=\"dataframe\">\n",
       "  <thead>\n",
       "    <tr style=\"text-align: right;\">\n",
       "      <th></th>\n",
       "      <th>NEIGHBORHOOD</th>\n",
       "      <th>ADDRESS</th>\n",
       "      <th>LAND SQUARE FEET</th>\n",
       "      <th>GROSS SQUARE FEET</th>\n",
       "      <th>YEAR BUILT</th>\n",
       "      <th>SALE PRICE</th>\n",
       "      <th>SALE DATE</th>\n",
       "    </tr>\n",
       "  </thead>\n",
       "  <tbody>\n",
       "    <tr>\n",
       "      <th>0</th>\n",
       "      <td>GREENWICH VILLAGE-WEST</td>\n",
       "      <td>621 GREENWICH STREET</td>\n",
       "      <td>1741.0</td>\n",
       "      <td>3866.0</td>\n",
       "      <td>2017.0</td>\n",
       "      <td>17000000.0</td>\n",
       "      <td>2022-04-12</td>\n",
       "    </tr>\n",
       "    <tr>\n",
       "      <th>1</th>\n",
       "      <td>GREENWICH VILLAGE-WEST</td>\n",
       "      <td>119 LEROY STREET</td>\n",
       "      <td>2098.0</td>\n",
       "      <td>3239.0</td>\n",
       "      <td>2017.0</td>\n",
       "      <td>8250000.0</td>\n",
       "      <td>2022-11-30</td>\n",
       "    </tr>\n",
       "    <tr>\n",
       "      <th>2</th>\n",
       "      <td>GREENWICH VILLAGE-WEST</td>\n",
       "      <td>117 LEROY STREET</td>\n",
       "      <td>2507.0</td>\n",
       "      <td>3454.0</td>\n",
       "      <td>2017.0</td>\n",
       "      <td>13500000.0</td>\n",
       "      <td>2022-07-25</td>\n",
       "    </tr>\n",
       "    <tr>\n",
       "      <th>3</th>\n",
       "      <td>SOUTHBRIDGE</td>\n",
       "      <td>136 BEEKMAN STREET</td>\n",
       "      <td>477.0</td>\n",
       "      <td>1900.0</td>\n",
       "      <td>1998.0</td>\n",
       "      <td>3500000.0</td>\n",
       "      <td>2022-02-03</td>\n",
       "    </tr>\n",
       "    <tr>\n",
       "      <th>4</th>\n",
       "      <td>CASTLE HILL/UNIONPORT</td>\n",
       "      <td>2030 STORY AVENUE</td>\n",
       "      <td>3604.0</td>\n",
       "      <td>1860.0</td>\n",
       "      <td>1987.0</td>\n",
       "      <td>642000.0</td>\n",
       "      <td>2022-10-21</td>\n",
       "    </tr>\n",
       "    <tr>\n",
       "      <th>5</th>\n",
       "      <td>CITY ISLAND</td>\n",
       "      <td>652 CITY ISLAND AVENUE</td>\n",
       "      <td>2693.0</td>\n",
       "      <td>1379.0</td>\n",
       "      <td>2004.0</td>\n",
       "      <td>400000.0</td>\n",
       "      <td>2022-09-27</td>\n",
       "    </tr>\n",
       "    <tr>\n",
       "      <th>6</th>\n",
       "      <td>CITY ISLAND</td>\n",
       "      <td>656 CITY ISLAND AVENUE</td>\n",
       "      <td>2150.0</td>\n",
       "      <td>2069.0</td>\n",
       "      <td>2005.0</td>\n",
       "      <td>425000.0</td>\n",
       "      <td>2022-02-02</td>\n",
       "    </tr>\n",
       "    <tr>\n",
       "      <th>7</th>\n",
       "      <td>CITY ISLAND</td>\n",
       "      <td>658 CITY ISLAND AVENUE</td>\n",
       "      <td>3713.0</td>\n",
       "      <td>2069.0</td>\n",
       "      <td>2005.0</td>\n",
       "      <td>450000.0</td>\n",
       "      <td>2022-05-16</td>\n",
       "    </tr>\n",
       "    <tr>\n",
       "      <th>8</th>\n",
       "      <td>CITY ISLAND</td>\n",
       "      <td>647 MINNIEFORD AVENUE</td>\n",
       "      <td>3219.0</td>\n",
       "      <td>2250.0</td>\n",
       "      <td>1999.0</td>\n",
       "      <td>630000.0</td>\n",
       "      <td>2022-07-27</td>\n",
       "    </tr>\n",
       "    <tr>\n",
       "      <th>9</th>\n",
       "      <td>CITY ISLAND</td>\n",
       "      <td>158 FORDHAM STREET</td>\n",
       "      <td>2500.0</td>\n",
       "      <td>1496.0</td>\n",
       "      <td>2020.0</td>\n",
       "      <td>745000.0</td>\n",
       "      <td>2022-02-08</td>\n",
       "    </tr>\n",
       "  </tbody>\n",
       "</table>\n",
       "</div>"
      ],
      "text/plain": [
       "             NEIGHBORHOOD                 ADDRESS  LAND SQUARE FEET  \\\n",
       "0  GREENWICH VILLAGE-WEST    621 GREENWICH STREET            1741.0   \n",
       "1  GREENWICH VILLAGE-WEST        119 LEROY STREET            2098.0   \n",
       "2  GREENWICH VILLAGE-WEST        117 LEROY STREET            2507.0   \n",
       "3             SOUTHBRIDGE      136 BEEKMAN STREET             477.0   \n",
       "4   CASTLE HILL/UNIONPORT       2030 STORY AVENUE            3604.0   \n",
       "5             CITY ISLAND  652 CITY ISLAND AVENUE            2693.0   \n",
       "6             CITY ISLAND  656 CITY ISLAND AVENUE            2150.0   \n",
       "7             CITY ISLAND  658 CITY ISLAND AVENUE            3713.0   \n",
       "8             CITY ISLAND   647 MINNIEFORD AVENUE            3219.0   \n",
       "9             CITY ISLAND      158 FORDHAM STREET            2500.0   \n",
       "\n",
       "   GROSS SQUARE FEET  YEAR BUILT  SALE PRICE   SALE DATE  \n",
       "0             3866.0      2017.0  17000000.0  2022-04-12  \n",
       "1             3239.0      2017.0   8250000.0  2022-11-30  \n",
       "2             3454.0      2017.0  13500000.0  2022-07-25  \n",
       "3             1900.0      1998.0   3500000.0  2022-02-03  \n",
       "4             1860.0      1987.0    642000.0  2022-10-21  \n",
       "5             1379.0      2004.0    400000.0  2022-09-27  \n",
       "6             2069.0      2005.0    425000.0  2022-02-02  \n",
       "7             2069.0      2005.0    450000.0  2022-05-16  \n",
       "8             2250.0      1999.0    630000.0  2022-07-27  \n",
       "9             1496.0      2020.0    745000.0  2022-02-08  "
      ]
     },
     "execution_count": 4,
     "metadata": {},
     "output_type": "execute_result"
    }
   ],
   "source": [
    "df = pd.read_csv(\"nyc-property-sales-cleaned.csv\")\n",
    "df.head(10)"
   ]
  }
 ],
 "metadata": {
  "kernelspec": {
   "display_name": "math513",
   "language": "python",
   "name": "python3"
  },
  "language_info": {
   "codemirror_mode": {
    "name": "ipython",
    "version": 3
   },
   "file_extension": ".py",
   "mimetype": "text/x-python",
   "name": "python",
   "nbconvert_exporter": "python",
   "pygments_lexer": "ipython3",
   "version": "3.12.3"
  }
 },
 "nbformat": 4,
 "nbformat_minor": 2
}
